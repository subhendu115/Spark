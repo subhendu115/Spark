{
  "nbformat": 4,
  "nbformat_minor": 0,
  "metadata": {
    "colab": {
      "provenance": [],
      "authorship_tag": "ABX9TyO2PLxy6wqI09rBz2XvBJbP",
      "include_colab_link": true
    },
    "kernelspec": {
      "name": "python3",
      "display_name": "Python 3"
    },
    "language_info": {
      "name": "python"
    }
  },
  "cells": [
    {
      "cell_type": "markdown",
      "metadata": {
        "id": "view-in-github",
        "colab_type": "text"
      },
      "source": [
        "<a href=\"https://colab.research.google.com/github/subhendu115/Spark/blob/main/wordCount.ipynb\" target=\"_parent\"><img src=\"https://colab.research.google.com/assets/colab-badge.svg\" alt=\"Open In Colab\"/></a>"
      ]
    },
    {
      "cell_type": "code",
      "execution_count": 1,
      "metadata": {
        "colab": {
          "base_uri": "https://localhost:8080/"
        },
        "id": "5u71JaUls_Sb",
        "outputId": "2e16666f-f512-418b-fe22-b3429d7418bc"
      },
      "outputs": [
        {
          "output_type": "stream",
          "name": "stdout",
          "text": [
            "Looking in indexes: https://pypi.org/simple, https://us-python.pkg.dev/colab-wheels/public/simple/\n",
            "Collecting pyspark\n",
            "  Downloading pyspark-3.3.0.tar.gz (281.3 MB)\n",
            "\u001b[K     |████████████████████████████████| 281.3 MB 37 kB/s \n",
            "\u001b[?25hCollecting py4j==0.10.9.5\n",
            "  Downloading py4j-0.10.9.5-py2.py3-none-any.whl (199 kB)\n",
            "\u001b[K     |████████████████████████████████| 199 kB 50.1 MB/s \n",
            "\u001b[?25hBuilding wheels for collected packages: pyspark\n",
            "  Building wheel for pyspark (setup.py) ... \u001b[?25l\u001b[?25hdone\n",
            "  Created wheel for pyspark: filename=pyspark-3.3.0-py2.py3-none-any.whl size=281764026 sha256=4a1781199e6b1a2022c576a0e741db2ea76355d162fcba928b7c3781c92b39e5\n",
            "  Stored in directory: /root/.cache/pip/wheels/7a/8e/1b/f73a52650d2e5f337708d9f6a1750d451a7349a867f928b885\n",
            "Successfully built pyspark\n",
            "Installing collected packages: py4j, pyspark\n",
            "Successfully installed py4j-0.10.9.5 pyspark-3.3.0\n"
          ]
        }
      ],
      "source": [
        "pip install pyspark"
      ]
    },
    {
      "cell_type": "markdown",
      "source": [
        "# **WordCount Example using PySpark DataFrame**"
      ],
      "metadata": {
        "id": "VzrQaTIGxE67"
      }
    },
    {
      "cell_type": "code",
      "source": [
        "from pyspark.sql import SparkSession"
      ],
      "metadata": {
        "id": "2gcwyHMotBfC"
      },
      "execution_count": 2,
      "outputs": []
    },
    {
      "cell_type": "code",
      "source": [
        "from pyspark.sql.types import StructType,StructField, StringType"
      ],
      "metadata": {
        "id": "n2L93Kjfu1KN"
      },
      "execution_count": 10,
      "outputs": []
    },
    {
      "cell_type": "code",
      "source": [
        "from pyspark.sql.functions import col,explode,split"
      ],
      "metadata": {
        "id": "yY4P3Np7wCiA"
      },
      "execution_count": 18,
      "outputs": []
    },
    {
      "cell_type": "code",
      "source": [
        "spark = SparkSession.builder.master(\"local[*]\").appName(\"test\").getOrCreate()"
      ],
      "metadata": {
        "id": "ROD14vxUt1Ww"
      },
      "execution_count": 3,
      "outputs": []
    },
    {
      "cell_type": "code",
      "source": [
        "schema = StructType([StructField(\"text\",StringType(),True)])"
      ],
      "metadata": {
        "id": "5Wv7tDTRvb4G"
      },
      "execution_count": 11,
      "outputs": []
    },
    {
      "cell_type": "code",
      "source": [
        "df = spark.read.option(\"header\",True).csv(\"sample_data/README.md\",schema=schema)"
      ],
      "metadata": {
        "id": "GR9WmZ8juEPN"
      },
      "execution_count": 14,
      "outputs": []
    },
    {
      "cell_type": "code",
      "source": [
        "df.show(truncate=False)"
      ],
      "metadata": {
        "colab": {
          "base_uri": "https://localhost:8080/"
        },
        "id": "MtLjPIs8uZgo",
        "outputId": "d2b19c00-9d62-4b8f-a836-aaf5b8d2352d"
      },
      "execution_count": 16,
      "outputs": [
        {
          "output_type": "stream",
          "name": "stdout",
          "text": [
            "+---------------------------------------------------------------------------------------------------------------------------------------------------------+\n",
            "|text                                                                                                                                                     |\n",
            "+---------------------------------------------------------------------------------------------------------------------------------------------------------+\n",
            "|*   `california_housing_data*.csv` is California housing data from the 1990 US                                                                           |\n",
            "|    Census; more information is available at:                                                                                                            |\n",
            "|    https://developers.google.com/machine-learning/crash-course/california-housing-data-description                                                      |\n",
            "|*   `mnist_*.csv` is a small sample of the                                                                                                               |\n",
            "|    [MNIST database](https://en.wikipedia.org/wiki/MNIST_database)                                                                                       |\n",
            "|    described at: http://yann.lecun.com/exdb/mnist/                                                                                                      |\n",
            "|*   `anscombe.json` contains a copy of                                                                                                                   |\n",
            "|    [Anscombe's quartet](https://en.wikipedia.org/wiki/Anscombe%27s_quartet); it                                                                         |\n",
            "|    was originally described in                                                                                                                          |\n",
            "|    Anscombe                                                                                                                                             |\n",
            "|    Statistician. 27 (1): 17-21. JSTOR 2682899.                                                                                                          |\n",
            "|    and our copy was prepared by the                                                                                                                     |\n",
            "|    [vega_datasets library](https://github.com/altair-viz/vega_datasets/blob/4f67bdaad10f45e3549984e17e1b3088c731503d/vega_datasets/_data/anscombe.json).|\n",
            "+---------------------------------------------------------------------------------------------------------------------------------------------------------+\n",
            "\n"
          ]
        }
      ]
    },
    {
      "cell_type": "code",
      "source": [
        "df.select(explode(split(col(\"text\"),\" \"))).groupBy(\"col\").count().show()"
      ],
      "metadata": {
        "colab": {
          "base_uri": "https://localhost:8080/"
        },
        "id": "t67xm8kzudHO",
        "outputId": "2eaab91d-41b1-4ec9-d426-5c1d5ca6ea49"
      },
      "execution_count": 21,
      "outputs": [
        {
          "output_type": "stream",
          "name": "stdout",
          "text": [
            "+--------------------+-----+\n",
            "|                 col|count|\n",
            "+--------------------+-----+\n",
            "|              [MNIST|    1|\n",
            "|       `mnist_*.csv`|    1|\n",
            "|            2682899.|    1|\n",
            "|quartet](https://...|    1|\n",
            "|                copy|    2|\n",
            "|          originally|    1|\n",
            "|                  by|    1|\n",
            "|                more|    1|\n",
            "|                   *|    3|\n",
            "|                 was|    2|\n",
            "|database](https:/...|    1|\n",
            "|                  in|    1|\n",
            "|            contains|    1|\n",
            "|     `anscombe.json`|    1|\n",
            "|                  27|    1|\n",
            "|             housing|    1|\n",
            "|library](https://...|    1|\n",
            "|            prepared|    1|\n",
            "|                 at:|    2|\n",
            "|                  is|    3|\n",
            "+--------------------+-----+\n",
            "only showing top 20 rows\n",
            "\n"
          ]
        }
      ]
    },
    {
      "cell_type": "markdown",
      "source": [
        "# **Word Count using PySpark RDD**"
      ],
      "metadata": {
        "id": "b_6o63zsxl8z"
      }
    },
    {
      "cell_type": "code",
      "source": [
        "sc = spark.sparkContext"
      ],
      "metadata": {
        "id": "aB7sROrkxrKO"
      },
      "execution_count": 22,
      "outputs": []
    },
    {
      "cell_type": "code",
      "source": [
        "words = sc.textFile(\"sample_data/README.md\").flatMap(lambda line:line.split(\" \"))"
      ],
      "metadata": {
        "id": "DrhibbM1wwlO"
      },
      "execution_count": 25,
      "outputs": []
    },
    {
      "cell_type": "code",
      "source": [
        "wordCount = words.map(lambda word:(word,1)).reduceByKey(lambda a,b:a+b)"
      ],
      "metadata": {
        "id": "2dx59NsEx49G"
      },
      "execution_count": 26,
      "outputs": []
    },
    {
      "cell_type": "code",
      "source": [
        "wordCount.take(100)"
      ],
      "metadata": {
        "colab": {
          "base_uri": "https://localhost:8080/"
        },
        "id": "vvfmg6Gkx95D",
        "outputId": "f3861a6c-2961-4aaf-d0f2-cae3ed21998e"
      },
      "execution_count": 27,
      "outputs": [
        {
          "output_type": "execute_result",
          "data": {
            "text/plain": [
              "[('directory', 1),\n",
              " ('datasets', 1),\n",
              " ('', 51),\n",
              " ('*', 3),\n",
              " ('`california_housing_data*.csv`', 1),\n",
              " ('is', 4),\n",
              " ('housing', 1),\n",
              " ('1990', 1),\n",
              " ('more', 1),\n",
              " ('at:', 2),\n",
              " ('https://developers.google.com/machine-learning/crash-course/california-housing-data-description',\n",
              "  1),\n",
              " ('`mnist_*.csv`', 1),\n",
              " ('of', 2),\n",
              " (\"[Anscombe's\", 1),\n",
              " ('was', 2),\n",
              " ('originally', 1),\n",
              " ('in', 2),\n",
              " ('Anscombe,', 1),\n",
              " ('F.', 1),\n",
              " (\"'Graphs\", 1),\n",
              " ('American', 1),\n",
              " ('Statistician.', 1),\n",
              " ('(1):', 1),\n",
              " ('prepared', 1),\n",
              " ('This', 1),\n",
              " ('includes', 1),\n",
              " ('a', 3),\n",
              " ('few', 1),\n",
              " ('sample', 2),\n",
              " ('to', 1),\n",
              " ('get', 1),\n",
              " ('you', 1),\n",
              " ('started.', 1),\n",
              " ('California', 1),\n",
              " ('data', 1),\n",
              " ('from', 1),\n",
              " ('the', 3),\n",
              " ('US', 1),\n",
              " ('Census;', 1),\n",
              " ('information', 1),\n",
              " ('available', 1),\n",
              " ('small', 1),\n",
              " ('[MNIST', 1),\n",
              " ('database](https://en.wikipedia.org/wiki/MNIST_database),', 1),\n",
              " ('which', 1),\n",
              " ('described', 2),\n",
              " ('http://yann.lecun.com/exdb/mnist/', 1),\n",
              " ('`anscombe.json`', 1),\n",
              " ('contains', 1),\n",
              " ('copy', 2),\n",
              " ('quartet](https://en.wikipedia.org/wiki/Anscombe%27s_quartet);', 1),\n",
              " ('it', 1),\n",
              " ('J.', 1),\n",
              " ('(1973).', 1),\n",
              " ('Statistical', 1),\n",
              " (\"Analysis'.\", 1),\n",
              " ('27', 1),\n",
              " ('17-21.', 1),\n",
              " ('JSTOR', 1),\n",
              " ('2682899.', 1),\n",
              " ('and', 1),\n",
              " ('our', 1),\n",
              " ('by', 1),\n",
              " ('[vega_datasets', 1),\n",
              " ('library](https://github.com/altair-viz/vega_datasets/blob/4f67bdaad10f45e3549984e17e1b3088c731503d/vega_datasets/_data/anscombe.json).',\n",
              "  1)]"
            ]
          },
          "metadata": {},
          "execution_count": 27
        }
      ]
    },
    {
      "cell_type": "code",
      "source": [],
      "metadata": {
        "id": "GU0Uga_hyb8Z"
      },
      "execution_count": null,
      "outputs": []
    }
  ]
}