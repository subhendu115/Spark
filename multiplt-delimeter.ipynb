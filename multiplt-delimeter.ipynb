{
  "nbformat": 4,
  "nbformat_minor": 0,
  "metadata": {
    "colab": {
      "provenance": [],
      "authorship_tag": "ABX9TyM+XlStW1GlZgB3EIcvwTvz",
      "include_colab_link": true
    },
    "kernelspec": {
      "name": "python3",
      "display_name": "Python 3"
    },
    "language_info": {
      "name": "python"
    }
  },
  "cells": [
    {
      "cell_type": "markdown",
      "metadata": {
        "id": "view-in-github",
        "colab_type": "text"
      },
      "source": [
        "<a href=\"https://colab.research.google.com/github/subhendu115/Spark/blob/main/multiplt-delimeter.ipynb\" target=\"_parent\"><img src=\"https://colab.research.google.com/assets/colab-badge.svg\" alt=\"Open In Colab\"/></a>"
      ]
    },
    {
      "cell_type": "code",
      "source": [
        "from pyspark.sql import SparkSession"
      ],
      "metadata": {
        "id": "AKTRtkx8GqzF"
      },
      "execution_count": 15,
      "outputs": []
    },
    {
      "cell_type": "code",
      "source": [
        "spark = SparkSession.builder.appName(\"MultiDelim\").master(\"local[*]\").getOrCreate()"
      ],
      "metadata": {
        "id": "mF2MEgMoIYQd"
      },
      "execution_count": 16,
      "outputs": []
    },
    {
      "cell_type": "code",
      "source": [
        "df = spark.read.format(\"csv\").option(\"sep\",\"~|\").option(\"header\",True).load(\"multi-delim.dat\")"
      ],
      "metadata": {
        "id": "ICPqHJlzInHS"
      },
      "execution_count": 19,
      "outputs": []
    },
    {
      "cell_type": "code",
      "source": [
        "df.show()"
      ],
      "metadata": {
        "colab": {
          "base_uri": "https://localhost:8080/"
        },
        "id": "CShum70lJkWf",
        "outputId": "884415d3-1c15-4411-b79b-51d9068d1509"
      },
      "execution_count": 21,
      "outputs": [
        {
          "output_type": "stream",
          "name": "stdout",
          "text": [
            "+---+-----------+---+\n",
            "| id|       name|Age|\n",
            "+---+-----------+---+\n",
            "|  1|       gsfg| 23|\n",
            "|  1|  ssdgdsgjs| 20|\n",
            "|  1|svfgbfbggjs| 21|\n",
            "|  1|     svfscv| 29|\n",
            "|  1|   svcvvbjs| 23|\n",
            "|  1| ssgsrhjbjs| 28|\n",
            "|  1|  svfhfhbjs| 23|\n",
            "|  1|  svfdgdbjs| 25|\n",
            "|  1|   svfdgbjs| 22|\n",
            "|  1| svdgngjbjs| 25|\n",
            "+---+-----------+---+\n",
            "\n"
          ]
        }
      ]
    },
    {
      "cell_type": "code",
      "source": [
        "df1 = spark.read.format(\"text\").option(\"header\",True).load(\"multi-delim.dat\")"
      ],
      "metadata": {
        "id": "7Kt8ArY9J0c7"
      },
      "execution_count": 38,
      "outputs": []
    },
    {
      "cell_type": "code",
      "source": [
        "df1.show()"
      ],
      "metadata": {
        "colab": {
          "base_uri": "https://localhost:8080/"
        },
        "id": "DwRDVE9wKlIJ",
        "outputId": "5637f594-34ea-4616-ba80-5bf35bfc9dc0"
      },
      "execution_count": 39,
      "outputs": [
        {
          "output_type": "stream",
          "name": "stdout",
          "text": [
            "+------------------+\n",
            "|             value|\n",
            "+------------------+\n",
            "|     id~|name~|Age|\n",
            "|       1~|gsfg~|23|\n",
            "|  1~|ssdgdsgjs~|20|\n",
            "|1~|svfgbfbggjs~|21|\n",
            "|     1~|svfscv~|29|\n",
            "|   1~|svcvvbjs~|23|\n",
            "| 1~|ssgsrhjbjs~|28|\n",
            "|  1~|svfhfhbjs~|23|\n",
            "|  1~|svfdgdbjs~|25|\n",
            "|   1~|svfdgbjs~|22|\n",
            "| 1~|svdgngjbjs~|25|\n",
            "+------------------+\n",
            "\n"
          ]
        }
      ]
    },
    {
      "cell_type": "code",
      "source": [
        "header = df1.first()[0]\n",
        "header\n",
        "schm = header.split('~|')\n",
        "schm"
      ],
      "metadata": {
        "colab": {
          "base_uri": "https://localhost:8080/"
        },
        "id": "VTki-wV4KtpB",
        "outputId": "df48b946-9985-4eb5-89f6-d4ca6f13ed14"
      },
      "execution_count": 44,
      "outputs": [
        {
          "output_type": "execute_result",
          "data": {
            "text/plain": [
              "['id', 'name', 'Age']"
            ]
          },
          "metadata": {},
          "execution_count": 44
        }
      ]
    },
    {
      "cell_type": "code",
      "source": [
        "df_in = df1.filter(df1['value'] != header).rdd.map(lambda row:row[0].split(\"~|\")).toDF(schm)\n",
        "df_in.show()\n",
        "# As the DataFarme have only One column -> hence row[0]. It can change based on number of column in dataframe/RDD"
      ],
      "metadata": {
        "colab": {
          "base_uri": "https://localhost:8080/"
        },
        "id": "4g2WI3ACL0qH",
        "outputId": "9fd53cf2-8bf2-4500-cf45-7384595ea22f"
      },
      "execution_count": 61,
      "outputs": [
        {
          "output_type": "stream",
          "name": "stdout",
          "text": [
            "+---+-----------+---+\n",
            "| id|       name|Age|\n",
            "+---+-----------+---+\n",
            "|  1|       gsfg| 23|\n",
            "|  1|  ssdgdsgjs| 20|\n",
            "|  1|svfgbfbggjs| 21|\n",
            "|  1|     svfscv| 29|\n",
            "|  1|   svcvvbjs| 23|\n",
            "|  1| ssgsrhjbjs| 28|\n",
            "|  1|  svfhfhbjs| 23|\n",
            "|  1|  svfdgdbjs| 25|\n",
            "|  1|   svfdgbjs| 22|\n",
            "|  1| svdgngjbjs| 25|\n",
            "+---+-----------+---+\n",
            "\n"
          ]
        }
      ]
    }
  ]
}