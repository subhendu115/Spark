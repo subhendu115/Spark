{
  "nbformat": 4,
  "nbformat_minor": 0,
  "metadata": {
    "colab": {
      "provenance": [],
      "mount_file_id": "https://github.com/subhendu115/Spark/blob/main/multiplt-delimeter.ipynb",
      "authorship_tag": "ABX9TyOsibJlNX602aKs4mdZigCi",
      "include_colab_link": true
    },
    "kernelspec": {
      "name": "python3",
      "display_name": "Python 3"
    },
    "language_info": {
      "name": "python"
    }
  },
  "cells": [
    {
      "cell_type": "markdown",
      "metadata": {
        "id": "view-in-github",
        "colab_type": "text"
      },
      "source": [
        "<a href=\"https://colab.research.google.com/github/subhendu115/Spark/blob/main/multiplt-delimeter.ipynb\" target=\"_parent\"><img src=\"https://colab.research.google.com/assets/colab-badge.svg\" alt=\"Open In Colab\"/></a>"
      ]
    },
    {
      "cell_type": "code",
      "source": [
        "!pip install pyspark"
      ],
      "metadata": {
        "id": "AKTRtkx8GqzF",
        "outputId": "d76052eb-1198-40a7-b42d-afd1fe4b8f58",
        "colab": {
          "base_uri": "https://localhost:8080/"
        }
      },
      "execution_count": 2,
      "outputs": [
        {
          "output_type": "stream",
          "name": "stdout",
          "text": [
            "Collecting pyspark\n",
            "  Downloading pyspark-3.5.0.tar.gz (316.9 MB)\n",
            "\u001b[2K     \u001b[90m━━━━━━━━━━━━━━━━━━━━━━━━━━━━━━━━━━━━━━━━\u001b[0m \u001b[32m316.9/316.9 MB\u001b[0m \u001b[31m4.8 MB/s\u001b[0m eta \u001b[36m0:00:00\u001b[0m\n",
            "\u001b[?25h  Preparing metadata (setup.py) ... \u001b[?25l\u001b[?25hdone\n",
            "Requirement already satisfied: py4j==0.10.9.7 in /usr/local/lib/python3.10/dist-packages (from pyspark) (0.10.9.7)\n",
            "Building wheels for collected packages: pyspark\n",
            "  Building wheel for pyspark (setup.py) ... \u001b[?25l\u001b[?25hdone\n",
            "  Created wheel for pyspark: filename=pyspark-3.5.0-py2.py3-none-any.whl size=317425344 sha256=f5f1001561d2dc4930a78a025a269310e69f35c978c3ba413669a4e765e4f7f3\n",
            "  Stored in directory: /root/.cache/pip/wheels/41/4e/10/c2cf2467f71c678cfc8a6b9ac9241e5e44a01940da8fbb17fc\n",
            "Successfully built pyspark\n",
            "Installing collected packages: pyspark\n",
            "Successfully installed pyspark-3.5.0\n"
          ]
        }
      ]
    },
    {
      "cell_type": "code",
      "source": [
        "from google.colab import drive\n",
        "drive.mount('/content/gdrive/', force_remount=True)"
      ],
      "metadata": {
        "id": "rDCzH_-j_AsF",
        "outputId": "952e2c8a-8848-4849-e302-ebc4878ee7c7",
        "colab": {
          "base_uri": "https://localhost:8080/"
        }
      },
      "execution_count": 5,
      "outputs": [
        {
          "output_type": "stream",
          "name": "stdout",
          "text": [
            "Mounted at /content/gdrive/\n"
          ]
        }
      ]
    },
    {
      "cell_type": "code",
      "source": [
        "from pyspark.sql import SparkSession"
      ],
      "metadata": {
        "id": "uYZjOW8h8A-Z"
      },
      "execution_count": 6,
      "outputs": []
    },
    {
      "cell_type": "code",
      "source": [
        "spark = SparkSession.builder.appName(\"MultiDelim\").master(\"local[*]\").getOrCreate()\n",
        "import os;print(os.getcwd())"
      ],
      "metadata": {
        "id": "mF2MEgMoIYQd",
        "outputId": "c8109116-6711-462a-b186-2d6882b3ac37",
        "colab": {
          "base_uri": "https://localhost:8080/"
        }
      },
      "execution_count": 13,
      "outputs": [
        {
          "output_type": "stream",
          "name": "stdout",
          "text": [
            "/content\n"
          ]
        }
      ]
    },
    {
      "cell_type": "code",
      "source": [
        "basePath = \"/content/gdrive/MyDrive/SparkData/dataset-master/\""
      ],
      "metadata": {
        "id": "cVi4Txo6Hkee"
      },
      "execution_count": 23,
      "outputs": []
    },
    {
      "cell_type": "code",
      "source": [
        "# Multiple delimeter file\n",
        "df = spark.read.format(\"csv\").option(\"sep\",\"~|\").option(\"header\",True).load(basePath+\"/multi-delim.dat\")"
      ],
      "metadata": {
        "id": "ICPqHJlzInHS"
      },
      "execution_count": 24,
      "outputs": []
    },
    {
      "cell_type": "code",
      "source": [
        "df.show()"
      ],
      "metadata": {
        "colab": {
          "base_uri": "https://localhost:8080/"
        },
        "id": "CShum70lJkWf",
        "outputId": "2d73ca39-decf-419a-e66a-77783ab398c0"
      },
      "execution_count": 25,
      "outputs": [
        {
          "output_type": "stream",
          "name": "stdout",
          "text": [
            "+---+-----------+---+\n",
            "| id|       name|Age|\n",
            "+---+-----------+---+\n",
            "|  1|       gsfg| 23|\n",
            "|  1|  ssdgdsgjs| 20|\n",
            "|  1|svfgbfbggjs| 21|\n",
            "|  1|     svfscv| 29|\n",
            "|  1|   svcvvbjs| 23|\n",
            "|  1| ssgsrhjbjs| 28|\n",
            "|  1|  svfhfhbjs| 23|\n",
            "|  1|  svfdgdbjs| 25|\n",
            "|  1|   svfdgbjs| 22|\n",
            "|  1| svdgngjbjs| 25|\n",
            "+---+-----------+---+\n",
            "\n"
          ]
        }
      ]
    },
    {
      "cell_type": "code",
      "source": [
        "df1 = spark.read.format(\"text\").option(\"header\",True).load(basePath+\"/multi-delim.dat\")"
      ],
      "metadata": {
        "id": "7Kt8ArY9J0c7"
      },
      "execution_count": 26,
      "outputs": []
    },
    {
      "cell_type": "code",
      "source": [
        "df1.show()"
      ],
      "metadata": {
        "colab": {
          "base_uri": "https://localhost:8080/"
        },
        "id": "DwRDVE9wKlIJ",
        "outputId": "5637f594-34ea-4616-ba80-5bf35bfc9dc0"
      },
      "execution_count": null,
      "outputs": [
        {
          "output_type": "stream",
          "name": "stdout",
          "text": [
            "+------------------+\n",
            "|             value|\n",
            "+------------------+\n",
            "|     id~|name~|Age|\n",
            "|       1~|gsfg~|23|\n",
            "|  1~|ssdgdsgjs~|20|\n",
            "|1~|svfgbfbggjs~|21|\n",
            "|     1~|svfscv~|29|\n",
            "|   1~|svcvvbjs~|23|\n",
            "| 1~|ssgsrhjbjs~|28|\n",
            "|  1~|svfhfhbjs~|23|\n",
            "|  1~|svfdgdbjs~|25|\n",
            "|   1~|svfdgbjs~|22|\n",
            "| 1~|svdgngjbjs~|25|\n",
            "+------------------+\n",
            "\n"
          ]
        }
      ]
    },
    {
      "cell_type": "code",
      "source": [
        "header = df1.first()[0]\n",
        "header\n",
        "schm = header.split('~|')\n",
        "schm"
      ],
      "metadata": {
        "colab": {
          "base_uri": "https://localhost:8080/"
        },
        "id": "VTki-wV4KtpB",
        "outputId": "ac7d06cb-d394-49c0-8f18-fe704197c23a"
      },
      "execution_count": 20,
      "outputs": [
        {
          "output_type": "execute_result",
          "data": {
            "text/plain": [
              "['id', 'name', 'Age']"
            ]
          },
          "metadata": {},
          "execution_count": 20
        }
      ]
    },
    {
      "cell_type": "code",
      "source": [
        "df_in = df1.filter(df1['value'] != header).rdd.map(lambda row:row[0].split(\"~|\")).toDF(schm)\n",
        "df_in.show()\n",
        "# As the DataFarme have only One column -> hence row[0]. It can change based on number of column in dataframe/RDD"
      ],
      "metadata": {
        "colab": {
          "base_uri": "https://localhost:8080/"
        },
        "id": "4g2WI3ACL0qH",
        "outputId": "74cf78b4-44aa-41a4-bf35-3ab8655d223d"
      },
      "execution_count": 21,
      "outputs": [
        {
          "output_type": "stream",
          "name": "stdout",
          "text": [
            "+---+-----------+---+\n",
            "| id|       name|Age|\n",
            "+---+-----------+---+\n",
            "|  1|       gsfg| 23|\n",
            "|  1|  ssdgdsgjs| 20|\n",
            "|  1|svfgbfbggjs| 21|\n",
            "|  1|     svfscv| 29|\n",
            "|  1|   svcvvbjs| 23|\n",
            "|  1| ssgsrhjbjs| 28|\n",
            "|  1|  svfhfhbjs| 23|\n",
            "|  1|  svfdgdbjs| 25|\n",
            "|  1|   svfdgbjs| 22|\n",
            "|  1| svdgngjbjs| 25|\n",
            "+---+-----------+---+\n",
            "\n"
          ]
        }
      ]
    },
    {
      "cell_type": "code",
      "source": [
        "#Different Schema data merge\n",
        "df1 = spark.read.format('csv').option('header',True).load(basePath+\"input.csv\")\n",
        "df2 = spark.read.format('csv').option('header',True).load(basePath+\"input1.csv\")"
      ],
      "metadata": {
        "id": "ePlLk7Gv50je"
      },
      "execution_count": 28,
      "outputs": []
    },
    {
      "cell_type": "code",
      "source": [
        "df1.show()\n",
        "df2.show()"
      ],
      "metadata": {
        "id": "tNIFURrkH9vy",
        "outputId": "0e1f46a6-a198-494c-b10a-c6578b3035e6",
        "colab": {
          "base_uri": "https://localhost:8080/"
        }
      },
      "execution_count": 29,
      "outputs": [
        {
          "output_type": "stream",
          "name": "stdout",
          "text": [
            "+---------+---+\n",
            "|     Name|Age|\n",
            "+---------+---+\n",
            "|bsfbssdds| 28|\n",
            "|  bsfbssd| 25|\n",
            "|  bsfbssd| 26|\n",
            "|   bsfbss| 20|\n",
            "|  bsfbsdf| 25|\n",
            "|   bsfbss| 26|\n",
            "|   bsfbsd| 23|\n",
            "+---------+---+\n",
            "\n",
            "+---------+---+------+\n",
            "|     Name|Age|Gender|\n",
            "+---------+---+------+\n",
            "|bsfbssdds| 28|     M|\n",
            "|  bsfbssd| 25|     F|\n",
            "|  bsfbssd| 26|     M|\n",
            "|   bsfbss| 20|     M|\n",
            "|  bsfbsdf| 25|     M|\n",
            "|   bsfbss| 26|     F|\n",
            "|   bsfbsd| 23|     M|\n",
            "+---------+---+------+\n",
            "\n"
          ]
        }
      ]
    },
    {
      "cell_type": "code",
      "source": [
        "list1 = list(set(df1.columns) - set(df2.columns))\n",
        "list2 = list(set(df2.columns) - set(df1.columns))\n",
        "print(list1)\n",
        "print(list2)"
      ],
      "metadata": {
        "id": "tZSZFe89ICVp",
        "outputId": "e6363496-c2ee-44a7-b88a-349099cd284d",
        "colab": {
          "base_uri": "https://localhost:8080/"
        }
      },
      "execution_count": 32,
      "outputs": [
        {
          "output_type": "stream",
          "name": "stdout",
          "text": [
            "[]\n",
            "['Gender']\n"
          ]
        }
      ]
    },
    {
      "cell_type": "code",
      "source": [
        "from pyspark.sql.functions import lit\n",
        "for col in list1:\n",
        "  df2 = df2.withColumn(col,lit(None))\n",
        "for col in list2:\n",
        "  df1 = df1.withColumn(col,lit(None))"
      ],
      "metadata": {
        "id": "mmuD7Ax8IaIV"
      },
      "execution_count": 35,
      "outputs": []
    },
    {
      "cell_type": "code",
      "source": [
        "df = df1.unionAll(df2)\n",
        "df.show()"
      ],
      "metadata": {
        "id": "KVkUS0KsJJSP",
        "outputId": "f0609b88-b93b-47df-abcf-9f8e6572d791",
        "colab": {
          "base_uri": "https://localhost:8080/"
        }
      },
      "execution_count": 36,
      "outputs": [
        {
          "output_type": "stream",
          "name": "stdout",
          "text": [
            "+---------+---+------+\n",
            "|     Name|Age|Gender|\n",
            "+---------+---+------+\n",
            "|bsfbssdds| 28|  NULL|\n",
            "|  bsfbssd| 25|  NULL|\n",
            "|  bsfbssd| 26|  NULL|\n",
            "|   bsfbss| 20|  NULL|\n",
            "|  bsfbsdf| 25|  NULL|\n",
            "|   bsfbss| 26|  NULL|\n",
            "|   bsfbsd| 23|  NULL|\n",
            "|bsfbssdds| 28|     M|\n",
            "|  bsfbssd| 25|     F|\n",
            "|  bsfbssd| 26|     M|\n",
            "|   bsfbss| 20|     M|\n",
            "|  bsfbsdf| 25|     M|\n",
            "|   bsfbss| 26|     F|\n",
            "|   bsfbsd| 23|     M|\n",
            "+---------+---+------+\n",
            "\n"
          ]
        }
      ]
    }
  ]
}